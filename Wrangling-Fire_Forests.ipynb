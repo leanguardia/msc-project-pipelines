{
 "cells": [
  {
   "cell_type": "markdown",
   "metadata": {},
   "source": [
    "# Fores Fires (Regression)\n",
    "## Data Cleaning, Exploration and Wrangling\n",
    "\n",
    "### Source\n",
    "- https://archive.ics.uci.edu/ml/datasets/Forest+Fires"
   ]
  },
  {
   "cell_type": "code",
   "execution_count": 1,
   "metadata": {},
   "outputs": [],
   "source": [
    "import pandas as pd\n",
    "import matplotlib.pyplot as plt\n",
    "import seaborn as sns\n",
    "import numpy as np\n",
    "%matplotlib inline\n",
    "pd.options.display.float_format = \"{:,.2f}\".format\n",
    "\n",
    "from sklearn.linear_model import LinearRegression\n",
    "from sklearn.model_selection import train_test_split\n",
    "from sklearn.metrics import mean_absolute_error, mean_squared_error, r2_score\n",
    "from sklearn.preprocessing import PolynomialFeatures\n",
    "\n",
    "from eda import plot_corr_mat"
   ]
  },
  {
   "cell_type": "code",
   "execution_count": 2,
   "metadata": {},
   "outputs": [
    {
     "name": "stdout",
     "output_type": "stream",
     "text": [
      "(517, 13)\n"
     ]
    },
    {
     "data": {
      "text/html": [
       "<div>\n",
       "<style scoped>\n",
       "    .dataframe tbody tr th:only-of-type {\n",
       "        vertical-align: middle;\n",
       "    }\n",
       "\n",
       "    .dataframe tbody tr th {\n",
       "        vertical-align: top;\n",
       "    }\n",
       "\n",
       "    .dataframe thead th {\n",
       "        text-align: right;\n",
       "    }\n",
       "</style>\n",
       "<table border=\"1\" class=\"dataframe\">\n",
       "  <thead>\n",
       "    <tr style=\"text-align: right;\">\n",
       "      <th></th>\n",
       "      <th>X</th>\n",
       "      <th>Y</th>\n",
       "      <th>month</th>\n",
       "      <th>day</th>\n",
       "      <th>FFMC</th>\n",
       "      <th>DMC</th>\n",
       "      <th>DC</th>\n",
       "      <th>ISI</th>\n",
       "      <th>temp</th>\n",
       "      <th>RH</th>\n",
       "      <th>wind</th>\n",
       "      <th>rain</th>\n",
       "      <th>area</th>\n",
       "    </tr>\n",
       "  </thead>\n",
       "  <tbody>\n",
       "    <tr>\n",
       "      <th>0</th>\n",
       "      <td>7</td>\n",
       "      <td>5</td>\n",
       "      <td>mar</td>\n",
       "      <td>fri</td>\n",
       "      <td>86.20</td>\n",
       "      <td>26.20</td>\n",
       "      <td>94.30</td>\n",
       "      <td>5.10</td>\n",
       "      <td>8.20</td>\n",
       "      <td>51</td>\n",
       "      <td>6.70</td>\n",
       "      <td>0.00</td>\n",
       "      <td>0.00</td>\n",
       "    </tr>\n",
       "    <tr>\n",
       "      <th>1</th>\n",
       "      <td>7</td>\n",
       "      <td>4</td>\n",
       "      <td>oct</td>\n",
       "      <td>tue</td>\n",
       "      <td>90.60</td>\n",
       "      <td>35.40</td>\n",
       "      <td>669.10</td>\n",
       "      <td>6.70</td>\n",
       "      <td>18.00</td>\n",
       "      <td>33</td>\n",
       "      <td>0.90</td>\n",
       "      <td>0.00</td>\n",
       "      <td>0.00</td>\n",
       "    </tr>\n",
       "    <tr>\n",
       "      <th>2</th>\n",
       "      <td>7</td>\n",
       "      <td>4</td>\n",
       "      <td>oct</td>\n",
       "      <td>sat</td>\n",
       "      <td>90.60</td>\n",
       "      <td>43.70</td>\n",
       "      <td>686.90</td>\n",
       "      <td>6.70</td>\n",
       "      <td>14.60</td>\n",
       "      <td>33</td>\n",
       "      <td>1.30</td>\n",
       "      <td>0.00</td>\n",
       "      <td>0.00</td>\n",
       "    </tr>\n",
       "    <tr>\n",
       "      <th>3</th>\n",
       "      <td>8</td>\n",
       "      <td>6</td>\n",
       "      <td>mar</td>\n",
       "      <td>fri</td>\n",
       "      <td>91.70</td>\n",
       "      <td>33.30</td>\n",
       "      <td>77.50</td>\n",
       "      <td>9.00</td>\n",
       "      <td>8.30</td>\n",
       "      <td>97</td>\n",
       "      <td>4.00</td>\n",
       "      <td>0.20</td>\n",
       "      <td>0.00</td>\n",
       "    </tr>\n",
       "    <tr>\n",
       "      <th>4</th>\n",
       "      <td>8</td>\n",
       "      <td>6</td>\n",
       "      <td>mar</td>\n",
       "      <td>sun</td>\n",
       "      <td>89.30</td>\n",
       "      <td>51.30</td>\n",
       "      <td>102.20</td>\n",
       "      <td>9.60</td>\n",
       "      <td>11.40</td>\n",
       "      <td>99</td>\n",
       "      <td>1.80</td>\n",
       "      <td>0.00</td>\n",
       "      <td>0.00</td>\n",
       "    </tr>\n",
       "  </tbody>\n",
       "</table>\n",
       "</div>"
      ],
      "text/plain": [
       "   X  Y month  day  FFMC   DMC     DC  ISI  temp  RH  wind  rain  area\n",
       "0  7  5   mar  fri 86.20 26.20  94.30 5.10  8.20  51  6.70  0.00  0.00\n",
       "1  7  4   oct  tue 90.60 35.40 669.10 6.70 18.00  33  0.90  0.00  0.00\n",
       "2  7  4   oct  sat 90.60 43.70 686.90 6.70 14.60  33  1.30  0.00  0.00\n",
       "3  8  6   mar  fri 91.70 33.30  77.50 9.00  8.30  97  4.00  0.20  0.00\n",
       "4  8  6   mar  sun 89.30 51.30 102.20 9.60 11.40  99  1.80  0.00  0.00"
      ]
     },
     "execution_count": 2,
     "metadata": {},
     "output_type": "execute_result"
    }
   ],
   "source": [
    "df = pd.read_csv('lake/forest_fires/forestfires.csv')\n",
    "print(df.shape)\n",
    "df.head()"
   ]
  },
  {
   "cell_type": "markdown",
   "metadata": {},
   "source": [
    "### Types of Features"
   ]
  },
  {
   "cell_type": "code",
   "execution_count": 3,
   "metadata": {},
   "outputs": [
    {
     "name": "stdout",
     "output_type": "stream",
     "text": [
      "<class 'pandas.core.frame.DataFrame'>\n",
      "RangeIndex: 517 entries, 0 to 516\n",
      "Data columns (total 13 columns):\n",
      " #   Column  Non-Null Count  Dtype  \n",
      "---  ------  --------------  -----  \n",
      " 0   X       517 non-null    int64  \n",
      " 1   Y       517 non-null    int64  \n",
      " 2   month   517 non-null    object \n",
      " 3   day     517 non-null    object \n",
      " 4   FFMC    517 non-null    float64\n",
      " 5   DMC     517 non-null    float64\n",
      " 6   DC      517 non-null    float64\n",
      " 7   ISI     517 non-null    float64\n",
      " 8   temp    517 non-null    float64\n",
      " 9   RH      517 non-null    int64  \n",
      " 10  wind    517 non-null    float64\n",
      " 11  rain    517 non-null    float64\n",
      " 12  area    517 non-null    float64\n",
      "dtypes: float64(8), int64(3), object(2)\n",
      "memory usage: 52.6+ KB\n"
     ]
    }
   ],
   "source": [
    "df.info()"
   ]
  },
  {
   "cell_type": "code",
   "execution_count": 4,
   "metadata": {},
   "outputs": [
    {
     "data": {
      "text/plain": [
       "Index(['X', 'Y', 'month', 'day', 'FFMC', 'DMC', 'DC', 'ISI', 'temp', 'RH',\n",
       "       'wind', 'rain', 'area'],\n",
       "      dtype='object')"
      ]
     },
     "execution_count": 4,
     "metadata": {},
     "output_type": "execute_result"
    }
   ],
   "source": [
    "df.columns"
   ]
  },
  {
   "cell_type": "code",
   "execution_count": 5,
   "metadata": {},
   "outputs": [
    {
     "data": {
      "text/html": [
       "<div>\n",
       "<style scoped>\n",
       "    .dataframe tbody tr th:only-of-type {\n",
       "        vertical-align: middle;\n",
       "    }\n",
       "\n",
       "    .dataframe tbody tr th {\n",
       "        vertical-align: top;\n",
       "    }\n",
       "\n",
       "    .dataframe thead th {\n",
       "        text-align: right;\n",
       "    }\n",
       "</style>\n",
       "<table border=\"1\" class=\"dataframe\">\n",
       "  <thead>\n",
       "    <tr style=\"text-align: right;\">\n",
       "      <th></th>\n",
       "      <th>month</th>\n",
       "      <th>day</th>\n",
       "    </tr>\n",
       "  </thead>\n",
       "  <tbody>\n",
       "    <tr>\n",
       "      <th>count</th>\n",
       "      <td>517</td>\n",
       "      <td>517</td>\n",
       "    </tr>\n",
       "    <tr>\n",
       "      <th>unique</th>\n",
       "      <td>12</td>\n",
       "      <td>7</td>\n",
       "    </tr>\n",
       "    <tr>\n",
       "      <th>top</th>\n",
       "      <td>aug</td>\n",
       "      <td>sun</td>\n",
       "    </tr>\n",
       "    <tr>\n",
       "      <th>freq</th>\n",
       "      <td>184</td>\n",
       "      <td>95</td>\n",
       "    </tr>\n",
       "  </tbody>\n",
       "</table>\n",
       "</div>"
      ],
      "text/plain": [
       "       month  day\n",
       "count    517  517\n",
       "unique    12    7\n",
       "top      aug  sun\n",
       "freq     184   95"
      ]
     },
     "execution_count": 5,
     "metadata": {},
     "output_type": "execute_result"
    }
   ],
   "source": [
    "categorical_cols = ['month', 'day']\n",
    "df[categorical_cols].describe()"
   ]
  },
  {
   "cell_type": "code",
   "execution_count": 6,
   "metadata": {},
   "outputs": [
    {
     "data": {
      "text/html": [
       "<div>\n",
       "<style scoped>\n",
       "    .dataframe tbody tr th:only-of-type {\n",
       "        vertical-align: middle;\n",
       "    }\n",
       "\n",
       "    .dataframe tbody tr th {\n",
       "        vertical-align: top;\n",
       "    }\n",
       "\n",
       "    .dataframe thead th {\n",
       "        text-align: right;\n",
       "    }\n",
       "</style>\n",
       "<table border=\"1\" class=\"dataframe\">\n",
       "  <thead>\n",
       "    <tr style=\"text-align: right;\">\n",
       "      <th></th>\n",
       "      <th>X</th>\n",
       "      <th>Y</th>\n",
       "      <th>FFMC</th>\n",
       "      <th>DMC</th>\n",
       "      <th>DC</th>\n",
       "      <th>ISI</th>\n",
       "      <th>temp</th>\n",
       "      <th>RH</th>\n",
       "      <th>wind</th>\n",
       "      <th>rain</th>\n",
       "      <th>area</th>\n",
       "    </tr>\n",
       "  </thead>\n",
       "  <tbody>\n",
       "    <tr>\n",
       "      <th>count</th>\n",
       "      <td>517.00</td>\n",
       "      <td>517.00</td>\n",
       "      <td>517.00</td>\n",
       "      <td>517.00</td>\n",
       "      <td>517.00</td>\n",
       "      <td>517.00</td>\n",
       "      <td>517.00</td>\n",
       "      <td>517.00</td>\n",
       "      <td>517.00</td>\n",
       "      <td>517.00</td>\n",
       "      <td>517.00</td>\n",
       "    </tr>\n",
       "    <tr>\n",
       "      <th>mean</th>\n",
       "      <td>4.67</td>\n",
       "      <td>4.30</td>\n",
       "      <td>90.64</td>\n",
       "      <td>110.87</td>\n",
       "      <td>547.94</td>\n",
       "      <td>9.02</td>\n",
       "      <td>18.89</td>\n",
       "      <td>44.29</td>\n",
       "      <td>4.02</td>\n",
       "      <td>0.02</td>\n",
       "      <td>12.85</td>\n",
       "    </tr>\n",
       "    <tr>\n",
       "      <th>std</th>\n",
       "      <td>2.31</td>\n",
       "      <td>1.23</td>\n",
       "      <td>5.52</td>\n",
       "      <td>64.05</td>\n",
       "      <td>248.07</td>\n",
       "      <td>4.56</td>\n",
       "      <td>5.81</td>\n",
       "      <td>16.32</td>\n",
       "      <td>1.79</td>\n",
       "      <td>0.30</td>\n",
       "      <td>63.66</td>\n",
       "    </tr>\n",
       "    <tr>\n",
       "      <th>min</th>\n",
       "      <td>1.00</td>\n",
       "      <td>2.00</td>\n",
       "      <td>18.70</td>\n",
       "      <td>1.10</td>\n",
       "      <td>7.90</td>\n",
       "      <td>0.00</td>\n",
       "      <td>2.20</td>\n",
       "      <td>15.00</td>\n",
       "      <td>0.40</td>\n",
       "      <td>0.00</td>\n",
       "      <td>0.00</td>\n",
       "    </tr>\n",
       "    <tr>\n",
       "      <th>25%</th>\n",
       "      <td>3.00</td>\n",
       "      <td>4.00</td>\n",
       "      <td>90.20</td>\n",
       "      <td>68.60</td>\n",
       "      <td>437.70</td>\n",
       "      <td>6.50</td>\n",
       "      <td>15.50</td>\n",
       "      <td>33.00</td>\n",
       "      <td>2.70</td>\n",
       "      <td>0.00</td>\n",
       "      <td>0.00</td>\n",
       "    </tr>\n",
       "    <tr>\n",
       "      <th>50%</th>\n",
       "      <td>4.00</td>\n",
       "      <td>4.00</td>\n",
       "      <td>91.60</td>\n",
       "      <td>108.30</td>\n",
       "      <td>664.20</td>\n",
       "      <td>8.40</td>\n",
       "      <td>19.30</td>\n",
       "      <td>42.00</td>\n",
       "      <td>4.00</td>\n",
       "      <td>0.00</td>\n",
       "      <td>0.52</td>\n",
       "    </tr>\n",
       "    <tr>\n",
       "      <th>75%</th>\n",
       "      <td>7.00</td>\n",
       "      <td>5.00</td>\n",
       "      <td>92.90</td>\n",
       "      <td>142.40</td>\n",
       "      <td>713.90</td>\n",
       "      <td>10.80</td>\n",
       "      <td>22.80</td>\n",
       "      <td>53.00</td>\n",
       "      <td>4.90</td>\n",
       "      <td>0.00</td>\n",
       "      <td>6.57</td>\n",
       "    </tr>\n",
       "    <tr>\n",
       "      <th>max</th>\n",
       "      <td>9.00</td>\n",
       "      <td>9.00</td>\n",
       "      <td>96.20</td>\n",
       "      <td>291.30</td>\n",
       "      <td>860.60</td>\n",
       "      <td>56.10</td>\n",
       "      <td>33.30</td>\n",
       "      <td>100.00</td>\n",
       "      <td>9.40</td>\n",
       "      <td>6.40</td>\n",
       "      <td>1,090.84</td>\n",
       "    </tr>\n",
       "  </tbody>\n",
       "</table>\n",
       "</div>"
      ],
      "text/plain": [
       "           X      Y   FFMC    DMC     DC    ISI   temp     RH   wind   rain  \\\n",
       "count 517.00 517.00 517.00 517.00 517.00 517.00 517.00 517.00 517.00 517.00   \n",
       "mean    4.67   4.30  90.64 110.87 547.94   9.02  18.89  44.29   4.02   0.02   \n",
       "std     2.31   1.23   5.52  64.05 248.07   4.56   5.81  16.32   1.79   0.30   \n",
       "min     1.00   2.00  18.70   1.10   7.90   0.00   2.20  15.00   0.40   0.00   \n",
       "25%     3.00   4.00  90.20  68.60 437.70   6.50  15.50  33.00   2.70   0.00   \n",
       "50%     4.00   4.00  91.60 108.30 664.20   8.40  19.30  42.00   4.00   0.00   \n",
       "75%     7.00   5.00  92.90 142.40 713.90  10.80  22.80  53.00   4.90   0.00   \n",
       "max     9.00   9.00  96.20 291.30 860.60  56.10  33.30 100.00   9.40   6.40   \n",
       "\n",
       "          area  \n",
       "count   517.00  \n",
       "mean     12.85  \n",
       "std      63.66  \n",
       "min       0.00  \n",
       "25%       0.00  \n",
       "50%       0.52  \n",
       "75%       6.57  \n",
       "max   1,090.84  "
      ]
     },
     "execution_count": 6,
     "metadata": {},
     "output_type": "execute_result"
    }
   ],
   "source": [
    "numerical_cols = [col for col in df.columns.tolist() if not col in categorical_cols]\n",
    "df[numerical_cols].describe()"
   ]
  },
  {
   "cell_type": "markdown",
   "metadata": {},
   "source": [
    "### Missing Values"
   ]
  },
  {
   "cell_type": "code",
   "execution_count": 7,
   "metadata": {},
   "outputs": [
    {
     "data": {
      "text/plain": [
       "X        0\n",
       "Y        0\n",
       "month    0\n",
       "day      0\n",
       "FFMC     0\n",
       "DMC      0\n",
       "DC       0\n",
       "ISI      0\n",
       "temp     0\n",
       "RH       0\n",
       "wind     0\n",
       "rain     0\n",
       "area     0\n",
       "dtype: int64"
      ]
     },
     "execution_count": 7,
     "metadata": {},
     "output_type": "execute_result"
    }
   ],
   "source": [
    "df.isna().sum()"
   ]
  },
  {
   "cell_type": "markdown",
   "metadata": {},
   "source": [
    "No missing values"
   ]
  },
  {
   "cell_type": "markdown",
   "metadata": {},
   "source": [
    "### Duplicated Values"
   ]
  },
  {
   "cell_type": "code",
   "execution_count": 8,
   "metadata": {},
   "outputs": [
    {
     "data": {
      "text/html": [
       "<div>\n",
       "<style scoped>\n",
       "    .dataframe tbody tr th:only-of-type {\n",
       "        vertical-align: middle;\n",
       "    }\n",
       "\n",
       "    .dataframe tbody tr th {\n",
       "        vertical-align: top;\n",
       "    }\n",
       "\n",
       "    .dataframe thead th {\n",
       "        text-align: right;\n",
       "    }\n",
       "</style>\n",
       "<table border=\"1\" class=\"dataframe\">\n",
       "  <thead>\n",
       "    <tr style=\"text-align: right;\">\n",
       "      <th></th>\n",
       "      <th>X</th>\n",
       "      <th>Y</th>\n",
       "      <th>month</th>\n",
       "      <th>day</th>\n",
       "      <th>FFMC</th>\n",
       "      <th>DMC</th>\n",
       "      <th>DC</th>\n",
       "      <th>ISI</th>\n",
       "      <th>temp</th>\n",
       "      <th>RH</th>\n",
       "      <th>wind</th>\n",
       "      <th>rain</th>\n",
       "      <th>area</th>\n",
       "    </tr>\n",
       "  </thead>\n",
       "  <tbody>\n",
       "    <tr>\n",
       "      <th>52</th>\n",
       "      <td>4</td>\n",
       "      <td>3</td>\n",
       "      <td>aug</td>\n",
       "      <td>wed</td>\n",
       "      <td>92.10</td>\n",
       "      <td>111.20</td>\n",
       "      <td>654.10</td>\n",
       "      <td>9.60</td>\n",
       "      <td>20.40</td>\n",
       "      <td>42</td>\n",
       "      <td>4.90</td>\n",
       "      <td>0.00</td>\n",
       "      <td>0.00</td>\n",
       "    </tr>\n",
       "    <tr>\n",
       "      <th>53</th>\n",
       "      <td>4</td>\n",
       "      <td>3</td>\n",
       "      <td>aug</td>\n",
       "      <td>wed</td>\n",
       "      <td>92.10</td>\n",
       "      <td>111.20</td>\n",
       "      <td>654.10</td>\n",
       "      <td>9.60</td>\n",
       "      <td>20.40</td>\n",
       "      <td>42</td>\n",
       "      <td>4.90</td>\n",
       "      <td>0.00</td>\n",
       "      <td>0.00</td>\n",
       "    </tr>\n",
       "    <tr>\n",
       "      <th>99</th>\n",
       "      <td>3</td>\n",
       "      <td>4</td>\n",
       "      <td>aug</td>\n",
       "      <td>sun</td>\n",
       "      <td>91.40</td>\n",
       "      <td>142.40</td>\n",
       "      <td>601.40</td>\n",
       "      <td>10.60</td>\n",
       "      <td>19.80</td>\n",
       "      <td>39</td>\n",
       "      <td>5.40</td>\n",
       "      <td>0.00</td>\n",
       "      <td>0.00</td>\n",
       "    </tr>\n",
       "    <tr>\n",
       "      <th>100</th>\n",
       "      <td>3</td>\n",
       "      <td>4</td>\n",
       "      <td>aug</td>\n",
       "      <td>sun</td>\n",
       "      <td>91.40</td>\n",
       "      <td>142.40</td>\n",
       "      <td>601.40</td>\n",
       "      <td>10.60</td>\n",
       "      <td>19.80</td>\n",
       "      <td>39</td>\n",
       "      <td>5.40</td>\n",
       "      <td>0.00</td>\n",
       "      <td>0.00</td>\n",
       "    </tr>\n",
       "    <tr>\n",
       "      <th>214</th>\n",
       "      <td>4</td>\n",
       "      <td>4</td>\n",
       "      <td>mar</td>\n",
       "      <td>sat</td>\n",
       "      <td>91.70</td>\n",
       "      <td>35.80</td>\n",
       "      <td>80.80</td>\n",
       "      <td>7.80</td>\n",
       "      <td>17.00</td>\n",
       "      <td>27</td>\n",
       "      <td>4.90</td>\n",
       "      <td>0.00</td>\n",
       "      <td>28.66</td>\n",
       "    </tr>\n",
       "    <tr>\n",
       "      <th>215</th>\n",
       "      <td>4</td>\n",
       "      <td>4</td>\n",
       "      <td>mar</td>\n",
       "      <td>sat</td>\n",
       "      <td>91.70</td>\n",
       "      <td>35.80</td>\n",
       "      <td>80.80</td>\n",
       "      <td>7.80</td>\n",
       "      <td>17.00</td>\n",
       "      <td>27</td>\n",
       "      <td>4.90</td>\n",
       "      <td>0.00</td>\n",
       "      <td>28.66</td>\n",
       "    </tr>\n",
       "    <tr>\n",
       "      <th>302</th>\n",
       "      <td>3</td>\n",
       "      <td>6</td>\n",
       "      <td>jun</td>\n",
       "      <td>fri</td>\n",
       "      <td>91.10</td>\n",
       "      <td>94.10</td>\n",
       "      <td>232.10</td>\n",
       "      <td>7.10</td>\n",
       "      <td>19.20</td>\n",
       "      <td>38</td>\n",
       "      <td>4.50</td>\n",
       "      <td>0.00</td>\n",
       "      <td>0.00</td>\n",
       "    </tr>\n",
       "    <tr>\n",
       "      <th>303</th>\n",
       "      <td>3</td>\n",
       "      <td>6</td>\n",
       "      <td>jun</td>\n",
       "      <td>fri</td>\n",
       "      <td>91.10</td>\n",
       "      <td>94.10</td>\n",
       "      <td>232.10</td>\n",
       "      <td>7.10</td>\n",
       "      <td>19.20</td>\n",
       "      <td>38</td>\n",
       "      <td>4.50</td>\n",
       "      <td>0.00</td>\n",
       "      <td>0.00</td>\n",
       "    </tr>\n",
       "  </tbody>\n",
       "</table>\n",
       "</div>"
      ],
      "text/plain": [
       "     X  Y month  day  FFMC    DMC     DC   ISI  temp  RH  wind  rain  area\n",
       "52   4  3   aug  wed 92.10 111.20 654.10  9.60 20.40  42  4.90  0.00  0.00\n",
       "53   4  3   aug  wed 92.10 111.20 654.10  9.60 20.40  42  4.90  0.00  0.00\n",
       "99   3  4   aug  sun 91.40 142.40 601.40 10.60 19.80  39  5.40  0.00  0.00\n",
       "100  3  4   aug  sun 91.40 142.40 601.40 10.60 19.80  39  5.40  0.00  0.00\n",
       "214  4  4   mar  sat 91.70  35.80  80.80  7.80 17.00  27  4.90  0.00 28.66\n",
       "215  4  4   mar  sat 91.70  35.80  80.80  7.80 17.00  27  4.90  0.00 28.66\n",
       "302  3  6   jun  fri 91.10  94.10 232.10  7.10 19.20  38  4.50  0.00  0.00\n",
       "303  3  6   jun  fri 91.10  94.10 232.10  7.10 19.20  38  4.50  0.00  0.00"
      ]
     },
     "execution_count": 8,
     "metadata": {},
     "output_type": "execute_result"
    }
   ],
   "source": [
    "df[df.duplicated(keep=False)]"
   ]
  },
  {
   "cell_type": "code",
   "execution_count": 9,
   "metadata": {},
   "outputs": [],
   "source": [
    "# from pandas_profiling import ProfileReport\n",
    "# profile = ProfileReport(df, title=\"Pandas Profiling Report\")\n",
    "# profile"
   ]
  },
  {
   "cell_type": "markdown",
   "metadata": {},
   "source": [
    "### Target Analysis: Burnt Area"
   ]
  },
  {
   "cell_type": "code",
   "execution_count": 10,
   "metadata": {},
   "outputs": [
    {
     "data": {
      "image/png": "[encoded data removed]",
      "text/plain": [
       "<Figure size 1008x432 with 2 Axes>"
      ]
     },
     "metadata": {
      "needs_background": "light"
     },
     "output_type": "display_data"
    }
   ],
   "source": [
    "fig, (ax1, ax2) = plt.subplots(1,2, figsize=(14,6))\n",
    "df.area.plot.hist(ax = ax1, bins=50, alpha=0.5, title=\"Burnt Area FULL (hectares)\");\n",
    "df[df.area < 20].area.plot.hist(ax = ax2, bins=25, alpha=0.5, title=\"Burnt Area Zoomed\");"
   ]
  },
  {
   "cell_type": "code",
   "execution_count": 11,
   "metadata": {},
   "outputs": [
    {
     "data": {
      "text/plain": [
       "<AxesSubplot:>"
      ]
     },
     "execution_count": 11,
     "metadata": {},
     "output_type": "execute_result"
    },
    {
     "data": {
      "image/png": "[encoded data removed]",
      "text/plain": [
       "<Figure size 1080x216 with 1 Axes>"
      ]
     },
     "metadata": {
      "needs_background": "light"
     },
     "output_type": "display_data"
    }
   ],
   "source": [
    "plt.figure(figsize=(15,3))\n",
    "df.boxplot(column='area', vert=False)"
   ]
  },
  {
   "cell_type": "markdown",
   "metadata": {},
   "source": [
    "The target variable has significant outliers"
   ]
  },
  {
   "cell_type": "markdown",
   "metadata": {},
   "source": [
    "### Feature Exploration: Univariate"
   ]
  },
  {
   "cell_type": "code",
   "execution_count": 12,
   "metadata": {},
   "outputs": [
    {
     "data": {
      "image/png": "[encoded data removed]",
      "text/plain": [
       "<Figure size 1080x360 with 2 Axes>"
      ]
     },
     "metadata": {
      "needs_background": "light"
     },
     "output_type": "display_data"
    }
   ],
   "source": [
    "# Month\n",
    "fig, (ax1, ax2) = plt.subplots(1,2, figsize=(15,5))\n",
    "df['month'] = pd.Categorical(df['month'], [\"jan\", \"feb\", \"mar\", \"apr\", \"may\", \"jun\",\n",
    "                                           \"jul\", \"aug\", \"sep\", \"oct\", \"nov\", \"dec\"])\n",
    "ax = df.month.value_counts(sort=False).sort_index(ascending=False).plot.barh(ax=ax1)\n",
    "ax.set_title(\"Months\", fontsize=14);\n",
    "\n",
    "#Day\n",
    "df['day'] = pd.Categorical(df['day'], [\"mon\", \"tue\", \"wed\", \"thu\", \"fri\", \"sat\", \"sun\"])\n",
    "ax = df.day.value_counts(sort=False).sort_index(ascending=False).plot.barh(ax=ax2)\n",
    "ax.set_title(\"Days\", fontsize=14);"
   ]
  },
  {
   "cell_type": "markdown",
   "metadata": {},
   "source": [
    "Most of the fires occur in August and September. Apparently fires occured more from Fridat to Monday."
   ]
  },
  {
   "cell_type": "markdown",
   "metadata": {},
   "source": [
    "#### Forest Weather Index (FWI)\n",
    "Is a Canadian system for rating fire danter. It includes six components (Cortez et al).\n",
    "- Fine Fuel Moisture Code (FFMC): moisture content surface litter and influences ignition and fire spread\n",
    "- Initial Spread Index (ISI): Fire velocity spread\n",
    "- Duff Moisture Code (DMC): moisture content of shallow organic layers\n",
    "- Drought Code (DC): moisture content of deep organic layers"
   ]
  },
  {
   "cell_type": "code",
   "execution_count": 13,
   "metadata": {},
   "outputs": [
    {
     "data": {
      "image/png": "[encoded data removed]",
      "text/plain": [
       "<Figure size 1008x720 with 4 Axes>"
      ]
     },
     "metadata": {
      "needs_background": "light"
     },
     "output_type": "display_data"
    }
   ],
   "source": [
    "def plot_fwi_indicators(data):\n",
    "    fig, axes = plt.subplots(2,2, figsize=(14,10))\n",
    "    data['FFMC'].plot.hist(ax=axes[0,0], bins=25, alpha=0.5, title='Fine Fuel Moisture Code (FFMC)')\n",
    "    data['DMC'].plot.hist(ax=axes[0,1], bins=20, alpha=0.5, title='Duff Moisture Code (DMC):')\n",
    "    data['DC'].plot.hist(ax=axes[1,0], bins=20, alpha=0.5, title='Drought Code (DC)');\n",
    "    data['ISI'].plot.hist(ax=axes[1,1], bins=20, alpha=0.5, title='Initial Spread Index (ISI)');\n",
    "plot_fwi_indicators(df)"
   ]
  },
  {
   "cell_type": "code",
   "execution_count": 14,
   "metadata": {},
   "outputs": [
    {
     "data": {
      "image/png": "[encoded data removed]",
      "text/plain": [
       "<Figure size 1152x432 with 4 Axes>"
      ]
     },
     "metadata": {
      "needs_background": "light"
     },
     "output_type": "display_data"
    }
   ],
   "source": [
    "def plot_fwi_indicators_outliers(data):\n",
    "    fig, axes = plt.subplots(2,2, figsize=(16,6))\n",
    "    data.boxplot(column='FFMC', ax=axes[0,0], vert=False)\n",
    "    data.boxplot(column='DMC', ax=axes[0,1], vert=False)\n",
    "    data.boxplot(column='DC', ax=axes[1,0], vert=False)\n",
    "    data.boxplot(column='ISI', ax=axes[1,1], vert=False)\n",
    "plot_fwi_indicators_outliers(df)"
   ]
  },
  {
   "cell_type": "markdown",
   "metadata": {},
   "source": [
    "FFMC, and ISI have significant outliers"
   ]
  },
  {
   "cell_type": "markdown",
   "metadata": {},
   "source": [
    "### Weather Indicators\n",
    "- temp: Temperature (Celcius)\n",
    "- RH: Relative humidity (%)\n",
    "- wind (km/h)\n",
    "- rain (mm/m2)"
   ]
  },
  {
   "cell_type": "code",
   "execution_count": 15,
   "metadata": {},
   "outputs": [
    {
     "data": {
      "image/png": "[encoded data removed]",
      "text/plain": [
       "<Figure size 1008x720 with 4 Axes>"
      ]
     },
     "metadata": {
      "needs_background": "light"
     },
     "output_type": "display_data"
    }
   ],
   "source": [
    "def plot_weather_indicators(data):\n",
    "    fig, axes = plt.subplots(2,2, figsize=(14,10))\n",
    "    data['temp'].plot.hist(ax=axes[0,0], bins=25, alpha=0.5, title='Temp (C)')\n",
    "    data['RH'].plot.hist(ax=axes[0,1], bins=20, alpha=0.5, title='Relative Humidity (RH%)')\n",
    "    data['wind'].plot.hist(ax=axes[1,0], bins=20, alpha=0.5, title='Wind (km/h)');\n",
    "    data['rain'].plot.hist(ax=axes[1,1], bins=20, alpha=0.5, title='Rain (mm/mˆ2)');\n",
    "plot_weather_indicators(df)"
   ]
  },
  {
   "cell_type": "code",
   "execution_count": 16,
   "metadata": {},
   "outputs": [
    {
     "data": {
      "image/png": "[encoded data removed]",
      "text/plain": [
       "<Figure size 1152x576 with 4 Axes>"
      ]
     },
     "metadata": {
      "needs_background": "light"
     },
     "output_type": "display_data"
    }
   ],
   "source": [
    "fig, axes = plt.subplots(4, figsize=(16,8))\n",
    "for index, col_name in enumerate(['temp', 'RH', 'wind', 'rain']): \n",
    "    df.boxplot(column=col_name, ax=axes[index], vert=False)"
   ]
  },
  {
   "cell_type": "markdown",
   "metadata": {},
   "source": [
    "Rain has significant outliers"
   ]
  },
  {
   "cell_type": "markdown",
   "metadata": {},
   "source": [
    "### Feature Exploration: Bivariate Analysis"
   ]
  },
  {
   "cell_type": "code",
   "execution_count": 17,
   "metadata": {},
   "outputs": [
    {
     "data": {
      "image/png": "[encoded data removed]",
      "text/plain": [
       "<Figure size 432x288 with 2 Axes>"
      ]
     },
     "metadata": {
      "needs_background": "light"
     },
     "output_type": "display_data"
    }
   ],
   "source": [
    "# Coordinates\n",
    "position = df.groupby(['X', 'Y']).count()['month'].unstack().fillna(0)\n",
    "position.index.name = None\n",
    "position.columns.name = None\n",
    "position = pd.concat([position, pd.DataFrame({1: np.zeros(9), 7:np.zeros(9)},index=position.index)],  axis = 1)\n",
    "position = position.reindex(sorted(position.columns), axis=1).astype(int)\n",
    "ax = sns.heatmap(position, annot=True, cmap=\"YlGnBu\")\n",
    "ax.set_title('Heat Map of Fire Occurences', fontsize='14');"
   ]
  },
  {
   "cell_type": "code",
   "execution_count": 18,
   "metadata": {},
   "outputs": [
    {
     "data": {
      "image/png": "[encoded data removed]",
      "text/plain": [
       "<Figure size 576x432 with 2 Axes>"
      ]
     },
     "metadata": {
      "needs_background": "light"
     },
     "output_type": "display_data"
    }
   ],
   "source": [
    "plot_corr_mat(df, \"Correlations RED\")"
   ]
  },
  {
   "cell_type": "code",
   "execution_count": 19,
   "metadata": {},
   "outputs": [
    {
     "data": {
      "image/png": "[encoded data removed]",
      "text/plain": [
       "<Figure size 432x288 with 1 Axes>"
      ]
     },
     "metadata": {
      "needs_background": "light"
     },
     "output_type": "display_data"
    }
   ],
   "source": [
    "df.plot.scatter(x='temp', y='RH');"
   ]
  },
  {
   "cell_type": "markdown",
   "metadata": {},
   "source": [
    "### Treating Outliers"
   ]
  },
  {
   "cell_type": "code",
   "execution_count": 20,
   "metadata": {},
   "outputs": [
    {
     "data": {
      "text/html": [
       "<div>\n",
       "<style scoped>\n",
       "    .dataframe tbody tr th:only-of-type {\n",
       "        vertical-align: middle;\n",
       "    }\n",
       "\n",
       "    .dataframe tbody tr th {\n",
       "        vertical-align: top;\n",
       "    }\n",
       "\n",
       "    .dataframe thead th {\n",
       "        text-align: right;\n",
       "    }\n",
       "</style>\n",
       "<table border=\"1\" class=\"dataframe\">\n",
       "  <thead>\n",
       "    <tr style=\"text-align: right;\">\n",
       "      <th></th>\n",
       "      <th>kurtosis</th>\n",
       "      <th>skewness</th>\n",
       "    </tr>\n",
       "  </thead>\n",
       "  <tbody>\n",
       "    <tr>\n",
       "      <th>X</th>\n",
       "      <td>-1.17</td>\n",
       "      <td>0.04</td>\n",
       "    </tr>\n",
       "    <tr>\n",
       "      <th>Y</th>\n",
       "      <td>1.42</td>\n",
       "      <td>0.42</td>\n",
       "    </tr>\n",
       "    <tr>\n",
       "      <th>FFMC</th>\n",
       "      <td>67.07</td>\n",
       "      <td>-6.58</td>\n",
       "    </tr>\n",
       "    <tr>\n",
       "      <th>DMC</th>\n",
       "      <td>0.20</td>\n",
       "      <td>0.55</td>\n",
       "    </tr>\n",
       "    <tr>\n",
       "      <th>DC</th>\n",
       "      <td>-0.25</td>\n",
       "      <td>-1.10</td>\n",
       "    </tr>\n",
       "    <tr>\n",
       "      <th>ISI</th>\n",
       "      <td>21.46</td>\n",
       "      <td>2.54</td>\n",
       "    </tr>\n",
       "    <tr>\n",
       "      <th>temp</th>\n",
       "      <td>0.14</td>\n",
       "      <td>-0.33</td>\n",
       "    </tr>\n",
       "    <tr>\n",
       "      <th>RH</th>\n",
       "      <td>0.44</td>\n",
       "      <td>0.86</td>\n",
       "    </tr>\n",
       "    <tr>\n",
       "      <th>wind</th>\n",
       "      <td>0.05</td>\n",
       "      <td>0.57</td>\n",
       "    </tr>\n",
       "    <tr>\n",
       "      <th>rain</th>\n",
       "      <td>421.30</td>\n",
       "      <td>19.82</td>\n",
       "    </tr>\n",
       "    <tr>\n",
       "      <th>area</th>\n",
       "      <td>194.14</td>\n",
       "      <td>12.85</td>\n",
       "    </tr>\n",
       "  </tbody>\n",
       "</table>\n",
       "</div>"
      ],
      "text/plain": [
       "      kurtosis  skewness\n",
       "X        -1.17      0.04\n",
       "Y         1.42      0.42\n",
       "FFMC     67.07     -6.58\n",
       "DMC       0.20      0.55\n",
       "DC       -0.25     -1.10\n",
       "ISI      21.46      2.54\n",
       "temp      0.14     -0.33\n",
       "RH        0.44      0.86\n",
       "wind      0.05      0.57\n",
       "rain    421.30     19.82\n",
       "area    194.14     12.85"
      ]
     },
     "execution_count": 20,
     "metadata": {},
     "output_type": "execute_result"
    }
   ],
   "source": [
    "def skew_kurt(df):\n",
    "    return pd.DataFrame({'kurtosis':  df.kurtosis(), 'skewness': df.skew()})\n",
    "skew_kurt(df)"
   ]
  },
  {
   "cell_type": "code",
   "execution_count": 21,
   "metadata": {},
   "outputs": [
    {
     "data": {
      "text/html": [
       "<div>\n",
       "<style scoped>\n",
       "    .dataframe tbody tr th:only-of-type {\n",
       "        vertical-align: middle;\n",
       "    }\n",
       "\n",
       "    .dataframe tbody tr th {\n",
       "        vertical-align: top;\n",
       "    }\n",
       "\n",
       "    .dataframe thead th {\n",
       "        text-align: right;\n",
       "    }\n",
       "</style>\n",
       "<table border=\"1\" class=\"dataframe\">\n",
       "  <thead>\n",
       "    <tr style=\"text-align: right;\">\n",
       "      <th></th>\n",
       "      <th>kurtosis</th>\n",
       "      <th>skewness</th>\n",
       "    </tr>\n",
       "  </thead>\n",
       "  <tbody>\n",
       "    <tr>\n",
       "      <th>area</th>\n",
       "      <td>0.95</td>\n",
       "      <td>1.22</td>\n",
       "    </tr>\n",
       "    <tr>\n",
       "      <th>FFMC</th>\n",
       "      <td>185.48</td>\n",
       "      <td>-11.68</td>\n",
       "    </tr>\n",
       "    <tr>\n",
       "      <th>ISI</th>\n",
       "      <td>2.58</td>\n",
       "      <td>-0.94</td>\n",
       "    </tr>\n",
       "    <tr>\n",
       "      <th>rain</th>\n",
       "      <td>234.24</td>\n",
       "      <td>14.17</td>\n",
       "    </tr>\n",
       "  </tbody>\n",
       "</table>\n",
       "</div>"
      ],
      "text/plain": [
       "      kurtosis  skewness\n",
       "area      0.95      1.22\n",
       "FFMC    185.48    -11.68\n",
       "ISI       2.58     -0.94\n",
       "rain    234.24     14.17"
      ]
     },
     "execution_count": 21,
     "metadata": {},
     "output_type": "execute_result"
    }
   ],
   "source": [
    "# Check distributions in log space\n",
    "outlier_columns = ['area', 'FFMC', 'ISI', 'rain']\n",
    "skew_kurt(np.log1p(df[outlier_columns]))"
   ]
  },
  {
   "cell_type": "markdown",
   "metadata": {},
   "source": [
    "FFMC still has large kurtosis and skewness."
   ]
  },
  {
   "cell_type": "code",
   "execution_count": 22,
   "metadata": {},
   "outputs": [],
   "source": [
    "def remove_outliers_iqr(df, column):\n",
    "    q1, q3 = np.percentile(df[column], [25, 75])\n",
    "    iqr = q3 - q1\n",
    "    lower_bound = q1 - 1.5 * iqr\n",
    "    upper_bound = q3 + 1.5 * iqr\n",
    "    return df[(lower_bound <= df[column]) & (df[column] <= upper_bound)]"
   ]
  },
  {
   "cell_type": "code",
   "execution_count": 23,
   "metadata": {},
   "outputs": [
    {
     "name": "stdout",
     "output_type": "stream",
     "text": [
      "(517, 13)\n",
      "(464, 13)\n"
     ]
    }
   ],
   "source": [
    "print(df.shape)\n",
    "print(remove_outliers_iqr(df, 'FFMC').shape)"
   ]
  },
  {
   "cell_type": "markdown",
   "metadata": {},
   "source": [
    "### Feature Engineering"
   ]
  },
  {
   "cell_type": "code",
   "execution_count": 24,
   "metadata": {},
   "outputs": [],
   "source": [
    "# Transform columns with outliers to the Log space\n",
    "log_outlier_columns = [col_name + '_log' for col_name in outlier_columns]\n",
    "df[log_outlier_columns] = np.log1p(df[outlier_columns])"
   ]
  },
  {
   "cell_type": "code",
   "execution_count": 25,
   "metadata": {},
   "outputs": [
    {
     "data": {
      "text/plain": [
       "['X', 'Y', 'FFMC', 'DMC', 'DC', 'ISI', 'temp', 'RH', 'wind', 'rain', 'area']"
      ]
     },
     "execution_count": 25,
     "metadata": {},
     "output_type": "execute_result"
    }
   ],
   "source": [
    "numerical_cols"
   ]
  },
  {
   "cell_type": "code",
   "execution_count": 26,
   "metadata": {},
   "outputs": [
    {
     "data": {
      "text/plain": [
       "['FFMC', 'DMC', 'DC', 'ISI', 'temp', 'RH', 'wind', 'rain']"
      ]
     },
     "execution_count": 26,
     "metadata": {},
     "output_type": "execute_result"
    }
   ],
   "source": [
    "poly_excluded = ['X', 'Y', 'area']\n",
    "poly_columns = [col for col in numerical_cols if col not in poly_excluded]\n",
    "poly_columns"
   ]
  },
  {
   "cell_type": "code",
   "execution_count": 27,
   "metadata": {},
   "outputs": [
    {
     "data": {
      "text/html": [
       "<div>\n",
       "<style scoped>\n",
       "    .dataframe tbody tr th:only-of-type {\n",
       "        vertical-align: middle;\n",
       "    }\n",
       "\n",
       "    .dataframe tbody tr th {\n",
       "        vertical-align: top;\n",
       "    }\n",
       "\n",
       "    .dataframe thead th {\n",
       "        text-align: right;\n",
       "    }\n",
       "</style>\n",
       "<table border=\"1\" class=\"dataframe\">\n",
       "  <thead>\n",
       "    <tr style=\"text-align: right;\">\n",
       "      <th></th>\n",
       "      <th>FFMC DMC</th>\n",
       "      <th>FFMC DC</th>\n",
       "      <th>FFMC ISI</th>\n",
       "      <th>FFMC temp</th>\n",
       "      <th>FFMC RH</th>\n",
       "      <th>FFMC wind</th>\n",
       "      <th>FFMC rain</th>\n",
       "      <th>DMC DC</th>\n",
       "      <th>DMC ISI</th>\n",
       "      <th>DMC temp</th>\n",
       "      <th>...</th>\n",
       "      <th>ISI temp</th>\n",
       "      <th>ISI RH</th>\n",
       "      <th>ISI wind</th>\n",
       "      <th>ISI rain</th>\n",
       "      <th>temp RH</th>\n",
       "      <th>temp wind</th>\n",
       "      <th>temp rain</th>\n",
       "      <th>RH wind</th>\n",
       "      <th>RH rain</th>\n",
       "      <th>wind rain</th>\n",
       "    </tr>\n",
       "  </thead>\n",
       "  <tbody>\n",
       "    <tr>\n",
       "      <th>0</th>\n",
       "      <td>2,258.44</td>\n",
       "      <td>8,128.66</td>\n",
       "      <td>439.62</td>\n",
       "      <td>706.84</td>\n",
       "      <td>4,396.20</td>\n",
       "      <td>577.54</td>\n",
       "      <td>0.00</td>\n",
       "      <td>2,470.66</td>\n",
       "      <td>133.62</td>\n",
       "      <td>214.84</td>\n",
       "      <td>...</td>\n",
       "      <td>41.82</td>\n",
       "      <td>260.10</td>\n",
       "      <td>34.17</td>\n",
       "      <td>0.00</td>\n",
       "      <td>418.20</td>\n",
       "      <td>54.94</td>\n",
       "      <td>0.00</td>\n",
       "      <td>341.70</td>\n",
       "      <td>0.00</td>\n",
       "      <td>0.00</td>\n",
       "    </tr>\n",
       "    <tr>\n",
       "      <th>1</th>\n",
       "      <td>3,207.24</td>\n",
       "      <td>60,620.46</td>\n",
       "      <td>607.02</td>\n",
       "      <td>1,630.80</td>\n",
       "      <td>2,989.80</td>\n",
       "      <td>81.54</td>\n",
       "      <td>0.00</td>\n",
       "      <td>23,686.14</td>\n",
       "      <td>237.18</td>\n",
       "      <td>637.20</td>\n",
       "      <td>...</td>\n",
       "      <td>120.60</td>\n",
       "      <td>221.10</td>\n",
       "      <td>6.03</td>\n",
       "      <td>0.00</td>\n",
       "      <td>594.00</td>\n",
       "      <td>16.20</td>\n",
       "      <td>0.00</td>\n",
       "      <td>29.70</td>\n",
       "      <td>0.00</td>\n",
       "      <td>0.00</td>\n",
       "    </tr>\n",
       "    <tr>\n",
       "      <th>2</th>\n",
       "      <td>3,959.22</td>\n",
       "      <td>62,233.14</td>\n",
       "      <td>607.02</td>\n",
       "      <td>1,322.76</td>\n",
       "      <td>2,989.80</td>\n",
       "      <td>117.78</td>\n",
       "      <td>0.00</td>\n",
       "      <td>30,017.53</td>\n",
       "      <td>292.79</td>\n",
       "      <td>638.02</td>\n",
       "      <td>...</td>\n",
       "      <td>97.82</td>\n",
       "      <td>221.10</td>\n",
       "      <td>8.71</td>\n",
       "      <td>0.00</td>\n",
       "      <td>481.80</td>\n",
       "      <td>18.98</td>\n",
       "      <td>0.00</td>\n",
       "      <td>42.90</td>\n",
       "      <td>0.00</td>\n",
       "      <td>0.00</td>\n",
       "    </tr>\n",
       "    <tr>\n",
       "      <th>3</th>\n",
       "      <td>3,053.61</td>\n",
       "      <td>7,106.75</td>\n",
       "      <td>825.30</td>\n",
       "      <td>761.11</td>\n",
       "      <td>8,894.90</td>\n",
       "      <td>366.80</td>\n",
       "      <td>18.34</td>\n",
       "      <td>2,580.75</td>\n",
       "      <td>299.70</td>\n",
       "      <td>276.39</td>\n",
       "      <td>...</td>\n",
       "      <td>74.70</td>\n",
       "      <td>873.00</td>\n",
       "      <td>36.00</td>\n",
       "      <td>1.80</td>\n",
       "      <td>805.10</td>\n",
       "      <td>33.20</td>\n",
       "      <td>1.66</td>\n",
       "      <td>388.00</td>\n",
       "      <td>19.40</td>\n",
       "      <td>0.80</td>\n",
       "    </tr>\n",
       "    <tr>\n",
       "      <th>4</th>\n",
       "      <td>4,581.09</td>\n",
       "      <td>9,126.46</td>\n",
       "      <td>857.28</td>\n",
       "      <td>1,018.02</td>\n",
       "      <td>8,840.70</td>\n",
       "      <td>160.74</td>\n",
       "      <td>0.00</td>\n",
       "      <td>5,242.86</td>\n",
       "      <td>492.48</td>\n",
       "      <td>584.82</td>\n",
       "      <td>...</td>\n",
       "      <td>109.44</td>\n",
       "      <td>950.40</td>\n",
       "      <td>17.28</td>\n",
       "      <td>0.00</td>\n",
       "      <td>1,128.60</td>\n",
       "      <td>20.52</td>\n",
       "      <td>0.00</td>\n",
       "      <td>178.20</td>\n",
       "      <td>0.00</td>\n",
       "      <td>0.00</td>\n",
       "    </tr>\n",
       "  </tbody>\n",
       "</table>\n",
       "<p>5 rows × 28 columns</p>\n",
       "</div>"
      ],
      "text/plain": [
       "   FFMC DMC   FFMC DC  FFMC ISI  FFMC temp  FFMC RH  FFMC wind  FFMC rain  \\\n",
       "0  2,258.44  8,128.66    439.62     706.84 4,396.20     577.54       0.00   \n",
       "1  3,207.24 60,620.46    607.02   1,630.80 2,989.80      81.54       0.00   \n",
       "2  3,959.22 62,233.14    607.02   1,322.76 2,989.80     117.78       0.00   \n",
       "3  3,053.61  7,106.75    825.30     761.11 8,894.90     366.80      18.34   \n",
       "4  4,581.09  9,126.46    857.28   1,018.02 8,840.70     160.74       0.00   \n",
       "\n",
       "     DMC DC  DMC ISI  DMC temp  ...  ISI temp  ISI RH  ISI wind  ISI rain  \\\n",
       "0  2,470.66   133.62    214.84  ...     41.82  260.10     34.17      0.00   \n",
       "1 23,686.14   237.18    637.20  ...    120.60  221.10      6.03      0.00   \n",
       "2 30,017.53   292.79    638.02  ...     97.82  221.10      8.71      0.00   \n",
       "3  2,580.75   299.70    276.39  ...     74.70  873.00     36.00      1.80   \n",
       "4  5,242.86   492.48    584.82  ...    109.44  950.40     17.28      0.00   \n",
       "\n",
       "   temp RH  temp wind  temp rain  RH wind  RH rain  wind rain  \n",
       "0   418.20      54.94       0.00   341.70     0.00       0.00  \n",
       "1   594.00      16.20       0.00    29.70     0.00       0.00  \n",
       "2   481.80      18.98       0.00    42.90     0.00       0.00  \n",
       "3   805.10      33.20       1.66   388.00    19.40       0.80  \n",
       "4 1,128.60      20.52       0.00   178.20     0.00       0.00  \n",
       "\n",
       "[5 rows x 28 columns]"
      ]
     },
     "execution_count": 27,
     "metadata": {},
     "output_type": "execute_result"
    }
   ],
   "source": [
    "# Polynomial transformations\n",
    "polyer = PolynomialFeatures(degree=2, include_bias=False, interaction_only=True)\n",
    "poly_matrix = polyer.fit_transform(df[poly_columns])\n",
    "poly_features = polyer.get_feature_names(poly_columns)\n",
    "\n",
    "# Exclude raw features\n",
    "poly_features = poly_features[8:] \n",
    "poly_matrix = poly_matrix[:, 8:]\n",
    "poly_df = pd.DataFrame(poly_matrix, columns=poly_features)\n",
    "poly_df.head()"
   ]
  },
  {
   "cell_type": "code",
   "execution_count": 45,
   "metadata": {},
   "outputs": [
    {
     "name": "stdout",
     "output_type": "stream",
     "text": [
      "Index(['X', 'Y', 'month', 'day', 'FFMC', 'DMC', 'DC', 'ISI', 'temp', 'RH',\n",
      "       'wind', 'rain', 'area', 'area_log', 'FFMC_log', 'ISI_log', 'rain_log',\n",
      "       'FFMC DMC', 'FFMC DC', 'FFMC ISI', 'FFMC temp', 'FFMC RH', 'FFMC wind',\n",
      "       'FFMC rain', 'DMC DC', 'DMC ISI', 'DMC temp', 'DMC RH', 'DMC wind',\n",
      "       'DMC rain', 'DC ISI', 'DC temp', 'DC RH', 'DC wind', 'DC rain',\n",
      "       'ISI temp', 'ISI RH', 'ISI wind', 'ISI rain', 'temp RH', 'temp wind',\n",
      "       'temp rain', 'RH wind', 'RH rain', 'wind rain'],\n",
      "      dtype='object')\n"
     ]
    },
    {
     "data": {
      "text/html": [
       "<div>\n",
       "<style scoped>\n",
       "    .dataframe tbody tr th:only-of-type {\n",
       "        vertical-align: middle;\n",
       "    }\n",
       "\n",
       "    .dataframe tbody tr th {\n",
       "        vertical-align: top;\n",
       "    }\n",
       "\n",
       "    .dataframe thead th {\n",
       "        text-align: right;\n",
       "    }\n",
       "</style>\n",
       "<table border=\"1\" class=\"dataframe\">\n",
       "  <thead>\n",
       "    <tr style=\"text-align: right;\">\n",
       "      <th></th>\n",
       "      <th>X</th>\n",
       "      <th>Y</th>\n",
       "      <th>month</th>\n",
       "      <th>day</th>\n",
       "      <th>FFMC</th>\n",
       "      <th>DMC</th>\n",
       "      <th>DC</th>\n",
       "      <th>ISI</th>\n",
       "      <th>temp</th>\n",
       "      <th>RH</th>\n",
       "      <th>...</th>\n",
       "      <th>ISI temp</th>\n",
       "      <th>ISI RH</th>\n",
       "      <th>ISI wind</th>\n",
       "      <th>ISI rain</th>\n",
       "      <th>temp RH</th>\n",
       "      <th>temp wind</th>\n",
       "      <th>temp rain</th>\n",
       "      <th>RH wind</th>\n",
       "      <th>RH rain</th>\n",
       "      <th>wind rain</th>\n",
       "    </tr>\n",
       "  </thead>\n",
       "  <tbody>\n",
       "    <tr>\n",
       "      <th>0</th>\n",
       "      <td>7</td>\n",
       "      <td>5</td>\n",
       "      <td>mar</td>\n",
       "      <td>fri</td>\n",
       "      <td>86.20</td>\n",
       "      <td>26.20</td>\n",
       "      <td>94.30</td>\n",
       "      <td>5.10</td>\n",
       "      <td>8.20</td>\n",
       "      <td>51</td>\n",
       "      <td>...</td>\n",
       "      <td>41.82</td>\n",
       "      <td>260.10</td>\n",
       "      <td>34.17</td>\n",
       "      <td>0.00</td>\n",
       "      <td>418.20</td>\n",
       "      <td>54.94</td>\n",
       "      <td>0.00</td>\n",
       "      <td>341.70</td>\n",
       "      <td>0.00</td>\n",
       "      <td>0.00</td>\n",
       "    </tr>\n",
       "    <tr>\n",
       "      <th>1</th>\n",
       "      <td>7</td>\n",
       "      <td>4</td>\n",
       "      <td>oct</td>\n",
       "      <td>tue</td>\n",
       "      <td>90.60</td>\n",
       "      <td>35.40</td>\n",
       "      <td>669.10</td>\n",
       "      <td>6.70</td>\n",
       "      <td>18.00</td>\n",
       "      <td>33</td>\n",
       "      <td>...</td>\n",
       "      <td>120.60</td>\n",
       "      <td>221.10</td>\n",
       "      <td>6.03</td>\n",
       "      <td>0.00</td>\n",
       "      <td>594.00</td>\n",
       "      <td>16.20</td>\n",
       "      <td>0.00</td>\n",
       "      <td>29.70</td>\n",
       "      <td>0.00</td>\n",
       "      <td>0.00</td>\n",
       "    </tr>\n",
       "    <tr>\n",
       "      <th>2</th>\n",
       "      <td>7</td>\n",
       "      <td>4</td>\n",
       "      <td>oct</td>\n",
       "      <td>sat</td>\n",
       "      <td>90.60</td>\n",
       "      <td>43.70</td>\n",
       "      <td>686.90</td>\n",
       "      <td>6.70</td>\n",
       "      <td>14.60</td>\n",
       "      <td>33</td>\n",
       "      <td>...</td>\n",
       "      <td>97.82</td>\n",
       "      <td>221.10</td>\n",
       "      <td>8.71</td>\n",
       "      <td>0.00</td>\n",
       "      <td>481.80</td>\n",
       "      <td>18.98</td>\n",
       "      <td>0.00</td>\n",
       "      <td>42.90</td>\n",
       "      <td>0.00</td>\n",
       "      <td>0.00</td>\n",
       "    </tr>\n",
       "    <tr>\n",
       "      <th>3</th>\n",
       "      <td>8</td>\n",
       "      <td>6</td>\n",
       "      <td>mar</td>\n",
       "      <td>fri</td>\n",
       "      <td>91.70</td>\n",
       "      <td>33.30</td>\n",
       "      <td>77.50</td>\n",
       "      <td>9.00</td>\n",
       "      <td>8.30</td>\n",
       "      <td>97</td>\n",
       "      <td>...</td>\n",
       "      <td>74.70</td>\n",
       "      <td>873.00</td>\n",
       "      <td>36.00</td>\n",
       "      <td>1.80</td>\n",
       "      <td>805.10</td>\n",
       "      <td>33.20</td>\n",
       "      <td>1.66</td>\n",
       "      <td>388.00</td>\n",
       "      <td>19.40</td>\n",
       "      <td>0.80</td>\n",
       "    </tr>\n",
       "    <tr>\n",
       "      <th>4</th>\n",
       "      <td>8</td>\n",
       "      <td>6</td>\n",
       "      <td>mar</td>\n",
       "      <td>sun</td>\n",
       "      <td>89.30</td>\n",
       "      <td>51.30</td>\n",
       "      <td>102.20</td>\n",
       "      <td>9.60</td>\n",
       "      <td>11.40</td>\n",
       "      <td>99</td>\n",
       "      <td>...</td>\n",
       "      <td>109.44</td>\n",
       "      <td>950.40</td>\n",
       "      <td>17.28</td>\n",
       "      <td>0.00</td>\n",
       "      <td>1,128.60</td>\n",
       "      <td>20.52</td>\n",
       "      <td>0.00</td>\n",
       "      <td>178.20</td>\n",
       "      <td>0.00</td>\n",
       "      <td>0.00</td>\n",
       "    </tr>\n",
       "  </tbody>\n",
       "</table>\n",
       "<p>5 rows × 45 columns</p>\n",
       "</div>"
      ],
      "text/plain": [
       "   X  Y month  day  FFMC   DMC     DC  ISI  temp  RH  ...  ISI temp  ISI RH  \\\n",
       "0  7  5   mar  fri 86.20 26.20  94.30 5.10  8.20  51  ...     41.82  260.10   \n",
       "1  7  4   oct  tue 90.60 35.40 669.10 6.70 18.00  33  ...    120.60  221.10   \n",
       "2  7  4   oct  sat 90.60 43.70 686.90 6.70 14.60  33  ...     97.82  221.10   \n",
       "3  8  6   mar  fri 91.70 33.30  77.50 9.00  8.30  97  ...     74.70  873.00   \n",
       "4  8  6   mar  sun 89.30 51.30 102.20 9.60 11.40  99  ...    109.44  950.40   \n",
       "\n",
       "   ISI wind  ISI rain  temp RH  temp wind  temp rain  RH wind  RH rain  \\\n",
       "0     34.17      0.00   418.20      54.94       0.00   341.70     0.00   \n",
       "1      6.03      0.00   594.00      16.20       0.00    29.70     0.00   \n",
       "2      8.71      0.00   481.80      18.98       0.00    42.90     0.00   \n",
       "3     36.00      1.80   805.10      33.20       1.66   388.00    19.40   \n",
       "4     17.28      0.00 1,128.60      20.52       0.00   178.20     0.00   \n",
       "\n",
       "   wind rain  \n",
       "0       0.00  \n",
       "1       0.00  \n",
       "2       0.00  \n",
       "3       0.80  \n",
       "4       0.00  \n",
       "\n",
       "[5 rows x 45 columns]"
      ]
     },
     "execution_count": 45,
     "metadata": {},
     "output_type": "execute_result"
    }
   ],
   "source": [
    "df = pd.concat([df, poly_df], axis=1)\n",
    "print(df.columns)\n",
    "df.head()"
   ]
  },
  {
   "cell_type": "markdown",
   "metadata": {},
   "source": [
    "## Modelling"
   ]
  },
  {
   "cell_type": "code",
   "execution_count": 29,
   "metadata": {},
   "outputs": [
    {
     "name": "stdout",
     "output_type": "stream",
     "text": [
      "(387, 10) (130, 10)\n",
      "(130,) (130,)\n"
     ]
    }
   ],
   "source": [
    "features = [\"X\",\"Y\",\"FFMC\",\"DMC\",\"DC\",\"ISI_log\",\"temp\",\"RH\",\"wind\",\"rain_log\"]\n",
    "X = df[features]\n",
    "y = df.area_log\n",
    "X_train, X_test, y_train, y_test = train_test_split(X, y, test_size=0.25, random_state=25)\n",
    "print(X_train.shape, X_test.shape)\n",
    "print(y_test.shape, y_test.shape)"
   ]
  },
  {
   "cell_type": "code",
   "execution_count": 30,
   "metadata": {},
   "outputs": [
    {
     "name": "stdout",
     "output_type": "stream",
     "text": [
      "[ 6.04120685e-02  1.78766544e-02  2.32140342e-02  1.77753756e-03\n",
      "  1.61702549e-04 -3.25907379e-01 -1.46622951e-03 -3.79584441e-03\n",
      "  1.11004329e-01 -8.05182189e-02]\n"
     ]
    }
   ],
   "source": [
    "linreg = LinearRegression()\n",
    "linreg.fit(X_train, y_train)\n",
    "y_pred = linreg.predict(X_test)\n",
    "print(linreg.coef_)"
   ]
  },
  {
   "cell_type": "code",
   "execution_count": 31,
   "metadata": {},
   "outputs": [],
   "source": [
    "# linreg = LinearRegression()\n",
    "# linreg.fit(X_train_poly, y_train)\n",
    "# y_pred = linreg.predict(X_test_poly)\n",
    "# print(linreg.coef_)"
   ]
  },
  {
   "cell_type": "code",
   "execution_count": 32,
   "metadata": {},
   "outputs": [
    {
     "data": {
      "text/html": [
       "<div>\n",
       "<style scoped>\n",
       "    .dataframe tbody tr th:only-of-type {\n",
       "        vertical-align: middle;\n",
       "    }\n",
       "\n",
       "    .dataframe tbody tr th {\n",
       "        vertical-align: top;\n",
       "    }\n",
       "\n",
       "    .dataframe thead th {\n",
       "        text-align: right;\n",
       "    }\n",
       "</style>\n",
       "<table border=\"1\" class=\"dataframe\">\n",
       "  <thead>\n",
       "    <tr style=\"text-align: right;\">\n",
       "      <th></th>\n",
       "      <th>Actuals</th>\n",
       "      <th>Predictions</th>\n",
       "    </tr>\n",
       "  </thead>\n",
       "  <tbody>\n",
       "    <tr>\n",
       "      <th>514</th>\n",
       "      <td>2.50</td>\n",
       "      <td>1.51</td>\n",
       "    </tr>\n",
       "    <tr>\n",
       "      <th>254</th>\n",
       "      <td>2.43</td>\n",
       "      <td>1.22</td>\n",
       "    </tr>\n",
       "    <tr>\n",
       "      <th>308</th>\n",
       "      <td>0.00</td>\n",
       "      <td>0.69</td>\n",
       "    </tr>\n",
       "    <tr>\n",
       "      <th>252</th>\n",
       "      <td>0.19</td>\n",
       "      <td>1.17</td>\n",
       "    </tr>\n",
       "    <tr>\n",
       "      <th>440</th>\n",
       "      <td>0.00</td>\n",
       "      <td>1.40</td>\n",
       "    </tr>\n",
       "    <tr>\n",
       "      <th>...</th>\n",
       "      <td>...</td>\n",
       "      <td>...</td>\n",
       "    </tr>\n",
       "    <tr>\n",
       "      <th>361</th>\n",
       "      <td>1.60</td>\n",
       "      <td>1.06</td>\n",
       "    </tr>\n",
       "    <tr>\n",
       "      <th>313</th>\n",
       "      <td>0.00</td>\n",
       "      <td>1.41</td>\n",
       "    </tr>\n",
       "    <tr>\n",
       "      <th>73</th>\n",
       "      <td>0.00</td>\n",
       "      <td>1.17</td>\n",
       "    </tr>\n",
       "    <tr>\n",
       "      <th>158</th>\n",
       "      <td>0.97</td>\n",
       "      <td>0.96</td>\n",
       "    </tr>\n",
       "    <tr>\n",
       "      <th>405</th>\n",
       "      <td>0.00</td>\n",
       "      <td>0.99</td>\n",
       "    </tr>\n",
       "  </tbody>\n",
       "</table>\n",
       "<p>130 rows × 2 columns</p>\n",
       "</div>"
      ],
      "text/plain": [
       "     Actuals  Predictions\n",
       "514     2.50         1.51\n",
       "254     2.43         1.22\n",
       "308     0.00         0.69\n",
       "252     0.19         1.17\n",
       "440     0.00         1.40\n",
       "..       ...          ...\n",
       "361     1.60         1.06\n",
       "313     0.00         1.41\n",
       "73      0.00         1.17\n",
       "158     0.97         0.96\n",
       "405     0.00         0.99\n",
       "\n",
       "[130 rows x 2 columns]"
      ]
     },
     "execution_count": 32,
     "metadata": {},
     "output_type": "execute_result"
    }
   ],
   "source": [
    "pd.DataFrame({'Actuals': y_test, 'Predictions': y_pred})"
   ]
  },
  {
   "cell_type": "code",
   "execution_count": 33,
   "metadata": {},
   "outputs": [
    {
     "data": {
      "image/png": "[encoded data removed]",
      "text/plain": [
       "<Figure size 648x648 with 1 Axes>"
      ]
     },
     "metadata": {
      "needs_background": "light"
     },
     "output_type": "display_data"
    }
   ],
   "source": [
    "def coeficient_importance(linear_model, columns, excluded_cols=[]):\n",
    "    coeficients = pd.DataFrame([linear_model.coef_], columns=columns)\n",
    "    all_other_columns = [col for col in columns if col not in excluded_cols]\n",
    "    fig, ax = plt.subplots(figsize=(9,9))\n",
    "    coeficients[all_other_columns].plot.bar(ax=ax)\n",
    "# coeficient_importance(linreg, poly_features, ['1', 'X', 'Y','FFMC', 'ISI', 'wind', 'temp','RH'])\n",
    "coeficient_importance(linreg, features)"
   ]
  },
  {
   "cell_type": "code",
   "execution_count": 34,
   "metadata": {},
   "outputs": [
    {
     "name": "stdout",
     "output_type": "stream",
     "text": [
      "(MAE) Mean absolute error: 1.22\n",
      "(MSE) Mean squared error: 2.40\n",
      "(R2) Coefficient of determination: -0.02\n"
     ]
    },
    {
     "data": {
      "image/png": "[encoded data removed]",
      "text/plain": [
       "<Figure size 1080x360 with 1 Axes>"
      ]
     },
     "metadata": {
      "needs_background": "light"
     },
     "output_type": "display_data"
    }
   ],
   "source": [
    "def evaluate(y_test, y_pred):\n",
    "    print('(MAE) Mean absolute error: %.2f' % mean_absolute_error(y_test, y_pred))\n",
    "    print('(MSE) Mean squared error: %.2f' % mean_squared_error(y_test, y_pred))\n",
    "    print('(R2) Coefficient of determination: %.2f' % r2_score(y_test, y_pred))\n",
    "    \n",
    "    a = np.concatenate((y_test.values.reshape(-1,1), y_pred.reshape(-1,1)), axis=1)\n",
    "    a = a[a[:,0].argsort()]\n",
    "\n",
    "    fig, ax = plt.subplots(figsize=(15,5))\n",
    "    x_ticks = range(y_test.shape[0])\n",
    "    ax.scatter(x_ticks, a[:,0], label='Actual', c='turquoise')\n",
    "    ax.scatter(x_ticks, a[:,1], label='Predictions', s=15, c='orange');\n",
    "    ax.legend()\n",
    "evaluate(y_test, y_pred)"
   ]
  },
  {
   "cell_type": "code",
   "execution_count": 35,
   "metadata": {},
   "outputs": [
    {
     "name": "stdout",
     "output_type": "stream",
     "text": [
      "Training Data\n",
      "(MAE) Mean absolute error: 1.11\n",
      "(MSE) Mean squared error: 1.75\n",
      "(R2) Coefficient of determination: 0.04\n"
     ]
    },
    {
     "data": {
      "image/png": "[encoded data removed]",
      "text/plain": [
       "<Figure size 1080x360 with 1 Axes>"
      ]
     },
     "metadata": {
      "needs_background": "light"
     },
     "output_type": "display_data"
    }
   ],
   "source": [
    "# Evaluata Train Data\n",
    "print(\"Training Data\")\n",
    "evaluate(y_train, linreg.predict(X_train))"
   ]
  },
  {
   "cell_type": "markdown",
   "metadata": {},
   "source": [
    "### SVR"
   ]
  },
  {
   "cell_type": "code",
   "execution_count": 36,
   "metadata": {},
   "outputs": [],
   "source": [
    "from sklearn.preprocessing import StandardScaler\n",
    "xscaler = StandardScaler(); x_test_scaler = StandardScaler()\n",
    "yscaler = StandardScaler(); y_test_scaler = StandardScaler()\n",
    "X_train_sc = xscaler.fit_transform(X_train)\n",
    "y_train_sc = yscaler.fit_transform(y_train.values.reshape(-1,1))\n",
    "X_test_sc = x_test_scaler.fit_transform(X_test)\n",
    "y_test_sc = y_test_scaler.fit_transform(y_test.values.reshape(-1,1))"
   ]
  },
  {
   "cell_type": "code",
   "execution_count": 37,
   "metadata": {},
   "outputs": [
    {
     "data": {
      "text/plain": [
       "SVR(C=1.0, cache_size=200, coef0=0.0, degree=3, epsilon=0.1, gamma='scale',\n",
       "    kernel='rbf', max_iter=-1, shrinking=True, tol=0.001, verbose=False)"
      ]
     },
     "execution_count": 37,
     "metadata": {},
     "output_type": "execute_result"
    }
   ],
   "source": [
    "from sklearn.svm import SVR\n",
    "svr = SVR(kernel='rbf')\n",
    "svr.fit(X_train_sc, y_train_sc.ravel())"
   ]
  },
  {
   "cell_type": "code",
   "execution_count": 38,
   "metadata": {},
   "outputs": [
    {
     "data": {
      "text/plain": [
       "array([0.3523863 , 0.34303701, 0.74430828, 0.64945666, 1.05708514,\n",
       "       0.77663034, 0.92132288, 0.85013706, 0.56793899, 0.88112835])"
      ]
     },
     "execution_count": 38,
     "metadata": {},
     "output_type": "execute_result"
    }
   ],
   "source": [
    "y_preds_sc = svr.predict(X_test_sc)\n",
    "y_preds = y_test_scaler.inverse_transform(y_preds_sc)\n",
    "y_preds[:10]"
   ]
  },
  {
   "cell_type": "code",
   "execution_count": 39,
   "metadata": {},
   "outputs": [
    {
     "name": "stdout",
     "output_type": "stream",
     "text": [
      "(MAE) Mean absolute error: 1.10\n",
      "(MSE) Mean squared error: 2.62\n",
      "(R2) Coefficient of determination: -0.12\n"
     ]
    },
    {
     "data": {
      "image/png": "[encoded data removed]",
      "text/plain": [
       "<Figure size 1080x360 with 1 Axes>"
      ]
     },
     "metadata": {
      "needs_background": "light"
     },
     "output_type": "display_data"
    }
   ],
   "source": [
    "evaluate(y_test, y_preds)"
   ]
  },
  {
   "cell_type": "code",
   "execution_count": 40,
   "metadata": {},
   "outputs": [
    {
     "name": "stdout",
     "output_type": "stream",
     "text": [
      "Training Data\n",
      "(MAE) Mean absolute error: 0.86\n",
      "(MSE) Mean squared error: 1.59\n",
      "(R2) Coefficient of determination: 0.13\n"
     ]
    },
    {
     "data": {
      "image/png": "[encoded data removed]",
      "text/plain": [
       "<Figure size 1080x360 with 1 Axes>"
      ]
     },
     "metadata": {
      "needs_background": "light"
     },
     "output_type": "display_data"
    }
   ],
   "source": [
    "# Evaluata Train Data\n",
    "print(\"Training Data\")\n",
    "evaluate(y_train, yscaler.inverse_transform(svr.predict(X_train_sc)))"
   ]
  },
  {
   "cell_type": "code",
   "execution_count": 41,
   "metadata": {},
   "outputs": [],
   "source": [
    "pd.DataFrame??"
   ]
  },
  {
   "cell_type": "code",
   "execution_count": null,
   "metadata": {},
   "outputs": [],
   "source": []
  }
 ],
 "metadata": {
  "kernelspec": {
   "display_name": "Python 3.7.4 64-bit ('base': conda)",
   "language": "python",
   "name": "python37464bitbasecondad572fd0cb7ab471fbfff7fdb64f304d8"
  },
  "language_info": {
   "codemirror_mode": {
    "name": "ipython",
    "version": 3
   },
   "file_extension": ".py",
   "mimetype": "text/x-python",
   "name": "python",
   "nbconvert_exporter": "python",
   "pygments_lexer": "ipython3",
   "version": "3.7.4"
  }
 },
 "nbformat": 4,
 "nbformat_minor": 4
}
